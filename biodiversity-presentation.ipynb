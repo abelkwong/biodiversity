{
 "cells": [
  {
   "cell_type": "markdown",
   "metadata": {},
   "source": [
    "# National Parks Biodiversity Analysis "
   ]
  },
  {
   "cell_type": "markdown",
   "metadata": {},
   "source": [
    "## Introduction"
   ]
  },
  {
   "cell_type": "markdown",
   "metadata": {},
   "source": [
    "Biodiversity is a term used to describe the vast collection of life and its variabilities here on planet Earth. For this project, data obtained from the National Parks Service will be analyzed in order to learn more about endangered species in various national parks. More specifically, statistical analysis will be performed on the conservation statuses of the species to find out if there are any patterns or themes present among the population. \n",
    "\n",
    "During this project, the data will be processed, analyzed, and visually plotted to help answer the following questions posed:\n",
    "- What is the distribution of conservation status?\n",
    "- Are certain types of animal categories more likely to be endangered?\n",
    "- Are differences between species and conservation statuses significant?\n",
    "- Which park contains the highest population of endangered species?\n",
    "\n",
    "**<u>Source:</u>**\n",
    "\n",
    "*All data has been gracefully provided by [Codecademy.com](www.codecademy.com) for the purpose of this project. Note that the data is inspired by real life applications but is fictional.*"
   ]
  },
  {
   "cell_type": "markdown",
   "metadata": {},
   "source": [
    "## Import Python Modules"
   ]
  },
  {
   "cell_type": "code",
   "execution_count": 1,
   "metadata": {},
   "outputs": [],
   "source": [
    "# import libraries\n",
    "import pandas as pd\n",
    "import numpy as np\n",
    "import matplotlib.pyplot as plt\n",
    "import seaborn as sns"
   ]
  },
  {
   "cell_type": "markdown",
   "metadata": {},
   "source": [
    "## Load Data"
   ]
  },
  {
   "cell_type": "code",
   "execution_count": 2,
   "metadata": {},
   "outputs": [],
   "source": [
    "# load the csv datas\n",
    "df_species = pd.read_csv('species_info.csv')\n",
    "df_obs = pd.read_csv('observations.csv')"
   ]
  },
  {
   "cell_type": "markdown",
   "metadata": {},
   "source": [
    "**<u>Species Information</u>**\n",
    "\n",
    "The number of columns in `df_species` is four and the names of these columns are: **category**, **scientific_name**, **common_names**, and **conservation_status**. "
   ]
  },
  {
   "cell_type": "code",
   "execution_count": 3,
   "metadata": {},
   "outputs": [
    {
     "name": "stdout",
     "output_type": "stream",
     "text": [
      "Index(['category', 'scientific_name', 'common_names', 'conservation_status'], dtype='object')\n"
     ]
    },
    {
     "data": {
      "text/html": [
       "<div>\n",
       "<style scoped>\n",
       "    .dataframe tbody tr th:only-of-type {\n",
       "        vertical-align: middle;\n",
       "    }\n",
       "\n",
       "    .dataframe tbody tr th {\n",
       "        vertical-align: top;\n",
       "    }\n",
       "\n",
       "    .dataframe thead th {\n",
       "        text-align: right;\n",
       "    }\n",
       "</style>\n",
       "<table border=\"1\" class=\"dataframe\">\n",
       "  <thead>\n",
       "    <tr style=\"text-align: right;\">\n",
       "      <th></th>\n",
       "      <th>category</th>\n",
       "      <th>scientific_name</th>\n",
       "      <th>common_names</th>\n",
       "      <th>conservation_status</th>\n",
       "    </tr>\n",
       "  </thead>\n",
       "  <tbody>\n",
       "    <tr>\n",
       "      <th>0</th>\n",
       "      <td>Mammal</td>\n",
       "      <td>Clethrionomys gapperi gapperi</td>\n",
       "      <td>Gapper's Red-Backed Vole</td>\n",
       "      <td>NaN</td>\n",
       "    </tr>\n",
       "    <tr>\n",
       "      <th>1</th>\n",
       "      <td>Mammal</td>\n",
       "      <td>Bos bison</td>\n",
       "      <td>American Bison, Bison</td>\n",
       "      <td>NaN</td>\n",
       "    </tr>\n",
       "    <tr>\n",
       "      <th>2</th>\n",
       "      <td>Mammal</td>\n",
       "      <td>Bos taurus</td>\n",
       "      <td>Aurochs, Aurochs, Domestic Cattle (Feral), Dom...</td>\n",
       "      <td>NaN</td>\n",
       "    </tr>\n",
       "    <tr>\n",
       "      <th>3</th>\n",
       "      <td>Mammal</td>\n",
       "      <td>Ovis aries</td>\n",
       "      <td>Domestic Sheep, Mouflon, Red Sheep, Sheep (Feral)</td>\n",
       "      <td>NaN</td>\n",
       "    </tr>\n",
       "    <tr>\n",
       "      <th>4</th>\n",
       "      <td>Mammal</td>\n",
       "      <td>Cervus elaphus</td>\n",
       "      <td>Wapiti Or Elk</td>\n",
       "      <td>NaN</td>\n",
       "    </tr>\n",
       "  </tbody>\n",
       "</table>\n",
       "</div>"
      ],
      "text/plain": [
       "  category                scientific_name  \\\n",
       "0   Mammal  Clethrionomys gapperi gapperi   \n",
       "1   Mammal                      Bos bison   \n",
       "2   Mammal                     Bos taurus   \n",
       "3   Mammal                     Ovis aries   \n",
       "4   Mammal                 Cervus elaphus   \n",
       "\n",
       "                                        common_names conservation_status  \n",
       "0                           Gapper's Red-Backed Vole                 NaN  \n",
       "1                              American Bison, Bison                 NaN  \n",
       "2  Aurochs, Aurochs, Domestic Cattle (Feral), Dom...                 NaN  \n",
       "3  Domestic Sheep, Mouflon, Red Sheep, Sheep (Feral)                 NaN  \n",
       "4                                      Wapiti Or Elk                 NaN  "
      ]
     },
     "execution_count": 3,
     "metadata": {},
     "output_type": "execute_result"
    }
   ],
   "source": [
    "print(df_species.columns)\n",
    "df_species.head()"
   ]
  },
  {
   "cell_type": "markdown",
   "metadata": {},
   "source": [
    "**<u>Observations</u>**\n",
    "\n",
    "The number of columns in `df_parks` is three and the names of these columns are: **scientific_name**, **park_name**, and **observations**."
   ]
  },
  {
   "cell_type": "code",
   "execution_count": 4,
   "metadata": {},
   "outputs": [
    {
     "name": "stdout",
     "output_type": "stream",
     "text": [
      "Index(['scientific_name', 'park_name', 'observations'], dtype='object')\n"
     ]
    },
    {
     "data": {
      "text/html": [
       "<div>\n",
       "<style scoped>\n",
       "    .dataframe tbody tr th:only-of-type {\n",
       "        vertical-align: middle;\n",
       "    }\n",
       "\n",
       "    .dataframe tbody tr th {\n",
       "        vertical-align: top;\n",
       "    }\n",
       "\n",
       "    .dataframe thead th {\n",
       "        text-align: right;\n",
       "    }\n",
       "</style>\n",
       "<table border=\"1\" class=\"dataframe\">\n",
       "  <thead>\n",
       "    <tr style=\"text-align: right;\">\n",
       "      <th></th>\n",
       "      <th>scientific_name</th>\n",
       "      <th>park_name</th>\n",
       "      <th>observations</th>\n",
       "    </tr>\n",
       "  </thead>\n",
       "  <tbody>\n",
       "    <tr>\n",
       "      <th>0</th>\n",
       "      <td>Vicia benghalensis</td>\n",
       "      <td>Great Smoky Mountains National Park</td>\n",
       "      <td>68</td>\n",
       "    </tr>\n",
       "    <tr>\n",
       "      <th>1</th>\n",
       "      <td>Neovison vison</td>\n",
       "      <td>Great Smoky Mountains National Park</td>\n",
       "      <td>77</td>\n",
       "    </tr>\n",
       "    <tr>\n",
       "      <th>2</th>\n",
       "      <td>Prunus subcordata</td>\n",
       "      <td>Yosemite National Park</td>\n",
       "      <td>138</td>\n",
       "    </tr>\n",
       "    <tr>\n",
       "      <th>3</th>\n",
       "      <td>Abutilon theophrasti</td>\n",
       "      <td>Bryce National Park</td>\n",
       "      <td>84</td>\n",
       "    </tr>\n",
       "    <tr>\n",
       "      <th>4</th>\n",
       "      <td>Githopsis specularioides</td>\n",
       "      <td>Great Smoky Mountains National Park</td>\n",
       "      <td>85</td>\n",
       "    </tr>\n",
       "  </tbody>\n",
       "</table>\n",
       "</div>"
      ],
      "text/plain": [
       "            scientific_name                            park_name  observations\n",
       "0        Vicia benghalensis  Great Smoky Mountains National Park            68\n",
       "1            Neovison vison  Great Smoky Mountains National Park            77\n",
       "2         Prunus subcordata               Yosemite National Park           138\n",
       "3      Abutilon theophrasti                  Bryce National Park            84\n",
       "4  Githopsis specularioides  Great Smoky Mountains National Park            85"
      ]
     },
     "execution_count": 4,
     "metadata": {},
     "output_type": "execute_result"
    }
   ],
   "source": [
    "print(df_obs.columns)\n",
    "df_obs.head()"
   ]
  },
  {
   "cell_type": "markdown",
   "metadata": {},
   "source": [
    "## Explore Data"
   ]
  },
  {
   "cell_type": "markdown",
   "metadata": {},
   "source": [
    "**<u>Species Information</u>**\n",
    "\n",
    "There are a total of 5842 entries for the first dataset. "
   ]
  },
  {
   "cell_type": "code",
   "execution_count": 5,
   "metadata": {
    "scrolled": true
   },
   "outputs": [
    {
     "name": "stdout",
     "output_type": "stream",
     "text": [
      "<class 'pandas.core.frame.DataFrame'>\n",
      "RangeIndex: 5824 entries, 0 to 5823\n",
      "Data columns (total 4 columns):\n",
      " #   Column               Non-Null Count  Dtype \n",
      "---  ------               --------------  ----- \n",
      " 0   category             5824 non-null   object\n",
      " 1   scientific_name      5824 non-null   object\n",
      " 2   common_names         5824 non-null   object\n",
      " 3   conservation_status  191 non-null    object\n",
      "dtypes: object(4)\n",
      "memory usage: 182.1+ KB\n",
      "None\n"
     ]
    }
   ],
   "source": [
    "# preview of dataset\n",
    "print(df_species.info())"
   ]
  },
  {
   "cell_type": "markdown",
   "metadata": {},
   "source": [
    "In the `category` column, it would be useful to find the number and names of animal categories present in the dataset. \n",
    "\n",
    "To obtain the results, let us use the following methods:"
   ]
  },
  {
   "cell_type": "code",
   "execution_count": 6,
   "metadata": {},
   "outputs": [
    {
     "name": "stdout",
     "output_type": "stream",
     "text": [
      "7\n"
     ]
    }
   ],
   "source": [
    "# Count number of unique categories\n",
    "print(df_species['category'].nunique())"
   ]
  },
  {
   "cell_type": "code",
   "execution_count": 7,
   "metadata": {},
   "outputs": [
    {
     "name": "stdout",
     "output_type": "stream",
     "text": [
      "['Mammal' 'Bird' 'Reptile' 'Amphibian' 'Fish' 'Vascular Plant'\n",
      " 'Nonvascular Plant']\n"
     ]
    }
   ],
   "source": [
    "# Display names of unique categories\n",
    "print(df_species['category'].unique())"
   ]
  },
  {
   "cell_type": "markdown",
   "metadata": {},
   "source": [
    "Using the pandas module, the total number of animal categories is 7 and the animals are separated into the following categories: **Mammal, Bird, Reptile, Amphibian, Fish, Vascular Plant,** and **Nonvascular Plant.**"
   ]
  },
  {
   "cell_type": "markdown",
   "metadata": {},
   "source": [
    "**<u>Observations</u>**"
   ]
  },
  {
   "cell_type": "markdown",
   "metadata": {},
   "source": [
    "In the observations dataset, there is a column designated for the various national parks where the animals were observed. To find the names of the parks listed, the following method was used. The results show four unique parks with the following names: **Great Smoky Mountains National Park, Yosemite National Park, Bryce National Park,** and **Yellowstone National Park**."
   ]
  },
  {
   "cell_type": "code",
   "execution_count": 8,
   "metadata": {},
   "outputs": [
    {
     "name": "stdout",
     "output_type": "stream",
     "text": [
      "['Great Smoky Mountains National Park' 'Yosemite National Park'\n",
      " 'Bryce National Park' 'Yellowstone National Park']\n"
     ]
    }
   ],
   "source": [
    "# Count number of unique parks\n",
    "print(df_obs['park_name'].unique())"
   ]
  },
  {
   "cell_type": "markdown",
   "metadata": {},
   "source": [
    "Next, the total number of observations was obtained by summing all of values in the observation column. The total number of observations was 3314739."
   ]
  },
  {
   "cell_type": "code",
   "execution_count": 9,
   "metadata": {},
   "outputs": [
    {
     "name": "stdout",
     "output_type": "stream",
     "text": [
      "3314739\n"
     ]
    }
   ],
   "source": [
    "# Count total number of observations\n",
    "print(df_obs['observations'].sum())"
   ]
  },
  {
   "cell_type": "markdown",
   "metadata": {},
   "source": [
    "## Analysis"
   ]
  },
  {
   "cell_type": "markdown",
   "metadata": {},
   "source": [
    "### **Distribution of Conservation Status**"
   ]
  },
  {
   "cell_type": "markdown",
   "metadata": {},
   "source": [
    "To find the distribution of the conservation status, we can first examine the `conservation_status` column more closely. A frequency table was created in order to find the unique names and counts for each conservation status. The statuses found include: \n",
    "- Species of concern\n",
    "- Endangered \n",
    "- Threatened\n",
    "- In recovery\n",
    "- Nan"
   ]
  },
  {
   "cell_type": "code",
   "execution_count": 10,
   "metadata": {},
   "outputs": [
    {
     "data": {
      "text/plain": [
       "NaN                   5633\n",
       "Species of Concern     161\n",
       "Endangered              16\n",
       "Threatened              10\n",
       "In Recovery              4\n",
       "Name: conservation_status, dtype: int64"
      ]
     },
     "execution_count": 10,
     "metadata": {},
     "output_type": "execute_result"
    }
   ],
   "source": [
    "# Find unique values in conservation_status column\n",
    "df_species['conservation_status'].value_counts(dropna=False)"
   ]
  },
  {
   "cell_type": "markdown",
   "metadata": {},
   "source": [
    "Notice the significantly large number of null values that were found in the dataset, there were 5633 NaN values! This will impact the distribution of `conservation_status` so the null values will be excluded. In addition, to provide consistency with the naming of the statuses, the 'NaN' value was replaced with 'No Contact'. "
   ]
  },
  {
   "cell_type": "code",
   "execution_count": 11,
   "metadata": {
    "scrolled": true
   },
   "outputs": [
    {
     "data": {
      "text/html": [
       "<div>\n",
       "<style scoped>\n",
       "    .dataframe tbody tr th:only-of-type {\n",
       "        vertical-align: middle;\n",
       "    }\n",
       "\n",
       "    .dataframe tbody tr th {\n",
       "        vertical-align: top;\n",
       "    }\n",
       "\n",
       "    .dataframe thead th {\n",
       "        text-align: right;\n",
       "    }\n",
       "</style>\n",
       "<table border=\"1\" class=\"dataframe\">\n",
       "  <thead>\n",
       "    <tr style=\"text-align: right;\">\n",
       "      <th></th>\n",
       "      <th>category</th>\n",
       "      <th>scientific_name</th>\n",
       "      <th>common_names</th>\n",
       "      <th>conservation_status</th>\n",
       "    </tr>\n",
       "  </thead>\n",
       "  <tbody>\n",
       "    <tr>\n",
       "      <th>0</th>\n",
       "      <td>Mammal</td>\n",
       "      <td>Clethrionomys gapperi gapperi</td>\n",
       "      <td>Gapper's Red-Backed Vole</td>\n",
       "      <td>No Contact</td>\n",
       "    </tr>\n",
       "    <tr>\n",
       "      <th>1</th>\n",
       "      <td>Mammal</td>\n",
       "      <td>Bos bison</td>\n",
       "      <td>American Bison, Bison</td>\n",
       "      <td>No Contact</td>\n",
       "    </tr>\n",
       "    <tr>\n",
       "      <th>2</th>\n",
       "      <td>Mammal</td>\n",
       "      <td>Bos taurus</td>\n",
       "      <td>Aurochs, Aurochs, Domestic Cattle (Feral), Dom...</td>\n",
       "      <td>No Contact</td>\n",
       "    </tr>\n",
       "    <tr>\n",
       "      <th>3</th>\n",
       "      <td>Mammal</td>\n",
       "      <td>Ovis aries</td>\n",
       "      <td>Domestic Sheep, Mouflon, Red Sheep, Sheep (Feral)</td>\n",
       "      <td>No Contact</td>\n",
       "    </tr>\n",
       "    <tr>\n",
       "      <th>4</th>\n",
       "      <td>Mammal</td>\n",
       "      <td>Cervus elaphus</td>\n",
       "      <td>Wapiti Or Elk</td>\n",
       "      <td>No Contact</td>\n",
       "    </tr>\n",
       "    <tr>\n",
       "      <th>5</th>\n",
       "      <td>Mammal</td>\n",
       "      <td>Odocoileus virginianus</td>\n",
       "      <td>White-Tailed Deer</td>\n",
       "      <td>No Contact</td>\n",
       "    </tr>\n",
       "    <tr>\n",
       "      <th>6</th>\n",
       "      <td>Mammal</td>\n",
       "      <td>Sus scrofa</td>\n",
       "      <td>Feral Hog, Wild Pig</td>\n",
       "      <td>No Contact</td>\n",
       "    </tr>\n",
       "    <tr>\n",
       "      <th>7</th>\n",
       "      <td>Mammal</td>\n",
       "      <td>Canis latrans</td>\n",
       "      <td>Coyote</td>\n",
       "      <td>Species of Concern</td>\n",
       "    </tr>\n",
       "    <tr>\n",
       "      <th>8</th>\n",
       "      <td>Mammal</td>\n",
       "      <td>Canis lupus</td>\n",
       "      <td>Gray Wolf</td>\n",
       "      <td>Endangered</td>\n",
       "    </tr>\n",
       "    <tr>\n",
       "      <th>9</th>\n",
       "      <td>Mammal</td>\n",
       "      <td>Canis rufus</td>\n",
       "      <td>Red Wolf</td>\n",
       "      <td>Endangered</td>\n",
       "    </tr>\n",
       "  </tbody>\n",
       "</table>\n",
       "</div>"
      ],
      "text/plain": [
       "  category                scientific_name  \\\n",
       "0   Mammal  Clethrionomys gapperi gapperi   \n",
       "1   Mammal                      Bos bison   \n",
       "2   Mammal                     Bos taurus   \n",
       "3   Mammal                     Ovis aries   \n",
       "4   Mammal                 Cervus elaphus   \n",
       "5   Mammal         Odocoileus virginianus   \n",
       "6   Mammal                     Sus scrofa   \n",
       "7   Mammal                  Canis latrans   \n",
       "8   Mammal                    Canis lupus   \n",
       "9   Mammal                    Canis rufus   \n",
       "\n",
       "                                        common_names conservation_status  \n",
       "0                           Gapper's Red-Backed Vole          No Contact  \n",
       "1                              American Bison, Bison          No Contact  \n",
       "2  Aurochs, Aurochs, Domestic Cattle (Feral), Dom...          No Contact  \n",
       "3  Domestic Sheep, Mouflon, Red Sheep, Sheep (Feral)          No Contact  \n",
       "4                                      Wapiti Or Elk          No Contact  \n",
       "5                                  White-Tailed Deer          No Contact  \n",
       "6                                Feral Hog, Wild Pig          No Contact  \n",
       "7                                             Coyote  Species of Concern  \n",
       "8                                          Gray Wolf          Endangered  \n",
       "9                                           Red Wolf          Endangered  "
      ]
     },
     "execution_count": 11,
     "metadata": {},
     "output_type": "execute_result"
    }
   ],
   "source": [
    "# Fill all null values with 'No Contact' status\n",
    "df_species['conservation_status'].fillna('No Contact', inplace=True)\n",
    "df_species.head(10)"
   ]
  },
  {
   "cell_type": "markdown",
   "metadata": {},
   "source": [
    "Now, the `conservation_status` column is preprocessed for all values including null values and ready for visualization. Since the values found inside `conservation status` are categorical, a histogram will be used to plot the frequency of each status. As stated previously, due to the high frequency of 'No Contact' statuses, the histogram will exclude all null values. In order to do this, we will first create a new variable excluding the `\"No Contact\"` values.\n",
    "\n",
    "According to the diagram, the histogram is skewed to the right, meaning that most data can be found on the left-hand side. Most observations can be classified as `\"Species of Concern\"`, which can provide experts with species for concentration to prevent further endangerment risks."
   ]
  },
  {
   "cell_type": "code",
   "execution_count": 12,
   "metadata": {},
   "outputs": [],
   "source": [
    "# create category variable for plot\n",
    "conservation_statuses = df_species[df_species['conservation_status'] != 'No Contact']"
   ]
  },
  {
   "cell_type": "code",
   "execution_count": 13,
   "metadata": {},
   "outputs": [
    {
     "data": {
      "image/png": "[encoded data removed]",
      "text/plain": [
       "<Figure size 800x600 with 1 Axes>"
      ]
     },
     "metadata": {},
     "output_type": "display_data"
    },
    {
     "data": {
      "text/plain": [
       "<Figure size 640x480 with 0 Axes>"
      ]
     },
     "metadata": {},
     "output_type": "display_data"
    }
   ],
   "source": [
    "# plot histogram of conservationCategories\n",
    "plt.figure(figsize=(8, 6))\n",
    "\n",
    "plt.hist(conservation_statuses['conservation_status'])\n",
    "plt.title(\"Distribution of Conservation Statuses\")\n",
    "plt.show()\n",
    "plt.clf()"
   ]
  },
  {
   "cell_type": "markdown",
   "metadata": {},
   "source": [
    "### **Bivariate Analysis of Animal Categories and Conservation Status**"
   ]
  },
  {
   "cell_type": "markdown",
   "metadata": {},
   "source": [
    "Next, we would like to examine if certain types of animal categories are more likely to be endangered. In order to do this, we will study the relationship between animal categories and conservation status. First, the proportions of animal categories for each conservation status was discovered."
   ]
  },
  {
   "cell_type": "code",
   "execution_count": 14,
   "metadata": {
    "scrolled": true
   },
   "outputs": [
    {
     "data": {
      "text/html": [
       "<div>\n",
       "<style scoped>\n",
       "    .dataframe tbody tr th:only-of-type {\n",
       "        vertical-align: middle;\n",
       "    }\n",
       "\n",
       "    .dataframe tbody tr th {\n",
       "        vertical-align: top;\n",
       "    }\n",
       "\n",
       "    .dataframe thead th {\n",
       "        text-align: right;\n",
       "    }\n",
       "</style>\n",
       "<table border=\"1\" class=\"dataframe\">\n",
       "  <thead>\n",
       "    <tr style=\"text-align: right;\">\n",
       "      <th>category</th>\n",
       "      <th>Amphibian</th>\n",
       "      <th>Bird</th>\n",
       "      <th>Fish</th>\n",
       "      <th>Mammal</th>\n",
       "      <th>Reptile</th>\n",
       "      <th>Nonvascular Plant</th>\n",
       "      <th>Vascular Plant</th>\n",
       "    </tr>\n",
       "    <tr>\n",
       "      <th>conservation_status</th>\n",
       "      <th></th>\n",
       "      <th></th>\n",
       "      <th></th>\n",
       "      <th></th>\n",
       "      <th></th>\n",
       "      <th></th>\n",
       "      <th></th>\n",
       "    </tr>\n",
       "  </thead>\n",
       "  <tbody>\n",
       "    <tr>\n",
       "      <th>No Contact</th>\n",
       "      <td>73.0</td>\n",
       "      <td>442.0</td>\n",
       "      <td>116.0</td>\n",
       "      <td>176.0</td>\n",
       "      <td>74.0</td>\n",
       "      <td>328.0</td>\n",
       "      <td>4424.0</td>\n",
       "    </tr>\n",
       "    <tr>\n",
       "      <th>In Recovery</th>\n",
       "      <td>NaN</td>\n",
       "      <td>3.0</td>\n",
       "      <td>NaN</td>\n",
       "      <td>1.0</td>\n",
       "      <td>NaN</td>\n",
       "      <td>NaN</td>\n",
       "      <td>NaN</td>\n",
       "    </tr>\n",
       "    <tr>\n",
       "      <th>Species of Concern</th>\n",
       "      <td>4.0</td>\n",
       "      <td>72.0</td>\n",
       "      <td>4.0</td>\n",
       "      <td>28.0</td>\n",
       "      <td>5.0</td>\n",
       "      <td>5.0</td>\n",
       "      <td>43.0</td>\n",
       "    </tr>\n",
       "    <tr>\n",
       "      <th>Threatened</th>\n",
       "      <td>2.0</td>\n",
       "      <td>NaN</td>\n",
       "      <td>4.0</td>\n",
       "      <td>2.0</td>\n",
       "      <td>NaN</td>\n",
       "      <td>NaN</td>\n",
       "      <td>2.0</td>\n",
       "    </tr>\n",
       "    <tr>\n",
       "      <th>Endangered</th>\n",
       "      <td>1.0</td>\n",
       "      <td>4.0</td>\n",
       "      <td>3.0</td>\n",
       "      <td>7.0</td>\n",
       "      <td>NaN</td>\n",
       "      <td>NaN</td>\n",
       "      <td>1.0</td>\n",
       "    </tr>\n",
       "  </tbody>\n",
       "</table>\n",
       "</div>"
      ],
      "text/plain": [
       "category             Amphibian   Bird   Fish  Mammal  Reptile  \\\n",
       "conservation_status                                             \n",
       "No Contact                73.0  442.0  116.0   176.0     74.0   \n",
       "In Recovery                NaN    3.0    NaN     1.0      NaN   \n",
       "Species of Concern         4.0   72.0    4.0    28.0      5.0   \n",
       "Threatened                 2.0    NaN    4.0     2.0      NaN   \n",
       "Endangered                 1.0    4.0    3.0     7.0      NaN   \n",
       "\n",
       "category             Nonvascular Plant  Vascular Plant  \n",
       "conservation_status                                     \n",
       "No Contact                       328.0          4424.0  \n",
       "In Recovery                        NaN             NaN  \n",
       "Species of Concern                 5.0            43.0  \n",
       "Threatened                         NaN             2.0  \n",
       "Endangered                         NaN             1.0  "
      ]
     },
     "execution_count": 14,
     "metadata": {},
     "output_type": "execute_result"
    }
   ],
   "source": [
    "# Examine proportions of animal categories for each conservation status\n",
    "conservation_proportions = df_species.groupby(['conservation_status','category'])['common_names'].count().unstack()\n",
    "conservation_proportions_v2 = conservation_proportions.reindex\\\n",
    "    (index=['No Contact','In Recovery','Species of Concern','Threatened','Endangered'],\\\n",
    "    columns=['Amphibian','Bird','Fish','Mammal','Reptile','Nonvascular Plant','Vascular Plant'])\n",
    "\n",
    "conservation_proportions_v2"
   ]
  },
  {
   "cell_type": "markdown",
   "metadata": {},
   "source": [
    "Typically, the values alone are not the most useful for statistical interpretation so instead, the values will be transformed into percentages of a whole. In addition, due to the large population of `\"No Contact\"` statuses, the percentages table will exclude this data. To prevent errors during transformation, the `NaN` values will be replaced with zeroes."
   ]
  },
  {
   "cell_type": "code",
   "execution_count": 15,
   "metadata": {
    "scrolled": true
   },
   "outputs": [
    {
     "data": {
      "text/html": [
       "<div>\n",
       "<style scoped>\n",
       "    .dataframe tbody tr th:only-of-type {\n",
       "        vertical-align: middle;\n",
       "    }\n",
       "\n",
       "    .dataframe tbody tr th {\n",
       "        vertical-align: top;\n",
       "    }\n",
       "\n",
       "    .dataframe thead th {\n",
       "        text-align: right;\n",
       "    }\n",
       "</style>\n",
       "<table border=\"1\" class=\"dataframe\">\n",
       "  <thead>\n",
       "    <tr style=\"text-align: right;\">\n",
       "      <th>category</th>\n",
       "      <th>Amphibian</th>\n",
       "      <th>Bird</th>\n",
       "      <th>Fish</th>\n",
       "      <th>Mammal</th>\n",
       "      <th>Reptile</th>\n",
       "      <th>Nonvascular Plant</th>\n",
       "      <th>Vascular Plant</th>\n",
       "      <th>Total Percentage</th>\n",
       "    </tr>\n",
       "    <tr>\n",
       "      <th>conservation_status</th>\n",
       "      <th></th>\n",
       "      <th></th>\n",
       "      <th></th>\n",
       "      <th></th>\n",
       "      <th></th>\n",
       "      <th></th>\n",
       "      <th></th>\n",
       "      <th></th>\n",
       "    </tr>\n",
       "  </thead>\n",
       "  <tbody>\n",
       "    <tr>\n",
       "      <th>In Recovery</th>\n",
       "      <td>0.00</td>\n",
       "      <td>75.00</td>\n",
       "      <td>0.00</td>\n",
       "      <td>25.00</td>\n",
       "      <td>0.00</td>\n",
       "      <td>0.00</td>\n",
       "      <td>0.00</td>\n",
       "      <td>100.0</td>\n",
       "    </tr>\n",
       "    <tr>\n",
       "      <th>Species of Concern</th>\n",
       "      <td>2.48</td>\n",
       "      <td>44.72</td>\n",
       "      <td>2.48</td>\n",
       "      <td>17.39</td>\n",
       "      <td>3.11</td>\n",
       "      <td>3.11</td>\n",
       "      <td>26.71</td>\n",
       "      <td>100.0</td>\n",
       "    </tr>\n",
       "    <tr>\n",
       "      <th>Threatened</th>\n",
       "      <td>20.00</td>\n",
       "      <td>0.00</td>\n",
       "      <td>40.00</td>\n",
       "      <td>20.00</td>\n",
       "      <td>0.00</td>\n",
       "      <td>0.00</td>\n",
       "      <td>20.00</td>\n",
       "      <td>100.0</td>\n",
       "    </tr>\n",
       "    <tr>\n",
       "      <th>Endangered</th>\n",
       "      <td>6.25</td>\n",
       "      <td>25.00</td>\n",
       "      <td>18.75</td>\n",
       "      <td>43.75</td>\n",
       "      <td>0.00</td>\n",
       "      <td>0.00</td>\n",
       "      <td>6.25</td>\n",
       "      <td>100.0</td>\n",
       "    </tr>\n",
       "  </tbody>\n",
       "</table>\n",
       "</div>"
      ],
      "text/plain": [
       "category             Amphibian   Bird   Fish  Mammal  Reptile  \\\n",
       "conservation_status                                             \n",
       "In Recovery               0.00  75.00   0.00   25.00     0.00   \n",
       "Species of Concern        2.48  44.72   2.48   17.39     3.11   \n",
       "Threatened               20.00   0.00  40.00   20.00     0.00   \n",
       "Endangered                6.25  25.00  18.75   43.75     0.00   \n",
       "\n",
       "category             Nonvascular Plant  Vascular Plant  Total Percentage  \n",
       "conservation_status                                                       \n",
       "In Recovery                       0.00            0.00             100.0  \n",
       "Species of Concern                3.11           26.71             100.0  \n",
       "Threatened                        0.00           20.00             100.0  \n",
       "Endangered                        0.00            6.25             100.0  "
      ]
     },
     "execution_count": 15,
     "metadata": {},
     "output_type": "execute_result"
    }
   ],
   "source": [
    "# Replace NaN values with zero\n",
    "conservation_proportions_v2.fillna(0, inplace=True)\n",
    "\n",
    "# Remove \"No Contact\" index\n",
    "conservation_proportions_v2 = conservation_proportions_v2.drop(index=\"No Contact\")\n",
    "\n",
    "# Transform proportions table to percentages\n",
    "conservation_proportions_v2 = conservation_proportions_v2.div(conservation_proportions_v2.sum(axis=1), axis=0)\n",
    "conservation_proportions_v2 = round(conservation_proportions_v2.mul(100), 2)\n",
    "conservation_proportions_v2['Total Percentage'] = conservation_proportions_v2.sum(axis=1)\n",
    "\n",
    "conservation_proportions_v2"
   ]
  },
  {
   "cell_type": "markdown",
   "metadata": {},
   "source": [
    "After conversion, all values listed in the table are in percentage form. In addition, `Total Percentage` was a column added that summed all of the values in each row to confirm that the percentages all add up to 1. The data is now ready for visualization, and, for this purpose, modified pie charts (also known as donut charts) will be used."
   ]
  },
  {
   "cell_type": "code",
   "execution_count": 16,
   "metadata": {
    "scrolled": false
   },
   "outputs": [
    {
     "data": {
      "text/plain": [
       "Text(0.5, 1.0, 'Endangered')"
      ]
     },
     "execution_count": 16,
     "metadata": {},
     "output_type": "execute_result"
    },
    {
     "data": {
      "image/png": "[encoded data removed]",
      "text/plain": [
       "<Figure size 1600x1600 with 4 Axes>"
      ]
     },
     "metadata": {},
     "output_type": "display_data"
    }
   ],
   "source": [
    "# Drop 'Total Percentage' \n",
    "conservation_proportions_v3 = conservation_proportions_v2.drop(columns='Total Percentage')\n",
    "\n",
    "# Donut charts\n",
    "conservation_labels = ['In Recovery', 'Species of Concern', 'Threatened', 'Endangered']\n",
    "colours = ['#4c9cbc','#69a6bb','#0e4866','#9d6a4b','#a7c2c6','#233c44','#aaaeb7']\n",
    "\n",
    "fig, axes = plt.subplots(2,2, figsize=(16,16))\n",
    "\n",
    "axes[0,0].pie(conservation_proportions_v3.loc['In Recovery'],\n",
    "        colors = colours,\n",
    "        wedgeprops = {'width': 0.25, 'linewidth': 1, 'edgecolor': 'white'}, \n",
    "        labels = ['','Bird','','Mammal','','',''], \n",
    "        autopct = (lambda pct:'{:1.1f}%'.format(pct) if pct > 0 else ''), \n",
    "        textprops = {'fontsize':12})\n",
    "                        \n",
    "axes[0,1].pie(conservation_proportions_v3.loc['Species of Concern'],\n",
    "        colors = colours,\n",
    "        wedgeprops = {'width': 0.25, 'linewidth': 1, 'edgecolor': 'white'}, \n",
    "        labels = ['Amphibian','Bird','Fish','Mammal','Reptile','Nonvascular Plant','Vascular Plant'],\n",
    "        autopct = (lambda pct:'{:1.1f}%'.format(pct) if pct > 0 else ''),\n",
    "        textprops = {'fontsize':12})\n",
    "\n",
    "axes[1,0].pie(conservation_proportions_v3.loc['Threatened'],\n",
    "        colors = colours,\n",
    "        wedgeprops = {'width': 0.25, 'linewidth': 1, 'edgecolor': 'white'},\n",
    "        labels = ['Amphibian','','Fish','Mammal','','','Vascular Plant'],\n",
    "        autopct = (lambda pct:'{:1.1f}%'.format(pct) if pct > 0 else ''),\n",
    "        textprops = {'fontsize':12})\n",
    "\n",
    "axes[1,1].pie(conservation_proportions_v3.loc['Endangered'],\n",
    "        colors = colours,\n",
    "        wedgeprops = {'width': 0.25, 'linewidth': 1, 'edgecolor': 'white'},\n",
    "        labels = ['Amphibian','Bird','Fish','Mammal','','','Vascular Plant'],\n",
    "        autopct = (lambda pct:'{:1.1f}%'.format(pct) if pct > 0 else ''),\n",
    "        textprops = {'fontsize':12})\n",
    "\n",
    "axes[0,0].set_title(conservation_labels[0], fontweight='bold', size=20)\n",
    "axes[0,1].set_title(conservation_labels[1], fontweight='bold', size=20)\n",
    "axes[1,0].set_title(conservation_labels[2], fontweight='bold', size=20)\n",
    "axes[1,1].set_title(conservation_labels[3], fontweight='bold', size=20)"
   ]
  },
  {
   "cell_type": "markdown",
   "metadata": {},
   "source": [
    "There were only two categories in recovery: birds and mammals. While all species were of concern, the most dominant ones were birds, vascular plant, and mammals with percentages greater than 15%. Four species were found to be threatened and posed the risk of endangerment. The highest population for threatened species was fish while mammals, amphibians and vascular plants displayed an equal percentage. Lastly, the three main species considered endangered include mammals, birds, and fish with percentages greater than 18%. It is concerning to observe that almost half of the endangered species were mammals, while a quarter of the endangered population were birds. "
   ]
  },
  {
   "cell_type": "markdown",
   "metadata": {},
   "source": [
    "### **Statistical Significance**"
   ]
  },
  {
   "cell_type": "markdown",
   "metadata": {},
   "source": [
    "In this section, we will use chi-squared tests in order to analyze if there is any statistical significance between the species and rates of conservation status. In order to calculate the rate of conservation status, we will first separate any species that had a status other than `No Contact` in a new column called `is_protected`. "
   ]
  },
  {
   "cell_type": "code",
   "execution_count": 17,
   "metadata": {},
   "outputs": [],
   "source": [
    "df_species['is_protected'] = df_species['conservation_status'] != 'No Contact'"
   ]
  },
  {
   "cell_type": "markdown",
   "metadata": {},
   "source": [
    "Next, a dataframe will be created that shows the different animal categories that are protected and not protected. "
   ]
  },
  {
   "cell_type": "code",
   "execution_count": 18,
   "metadata": {},
   "outputs": [
    {
     "data": {
      "text/html": [
       "<div>\n",
       "<style scoped>\n",
       "    .dataframe tbody tr th:only-of-type {\n",
       "        vertical-align: middle;\n",
       "    }\n",
       "\n",
       "    .dataframe tbody tr th {\n",
       "        vertical-align: top;\n",
       "    }\n",
       "\n",
       "    .dataframe thead th {\n",
       "        text-align: right;\n",
       "    }\n",
       "</style>\n",
       "<table border=\"1\" class=\"dataframe\">\n",
       "  <thead>\n",
       "    <tr style=\"text-align: right;\">\n",
       "      <th></th>\n",
       "      <th>category</th>\n",
       "      <th>not_protected</th>\n",
       "      <th>protected</th>\n",
       "      <th>protected_rate</th>\n",
       "    </tr>\n",
       "  </thead>\n",
       "  <tbody>\n",
       "    <tr>\n",
       "      <th>0</th>\n",
       "      <td>Amphibian</td>\n",
       "      <td>72</td>\n",
       "      <td>7</td>\n",
       "      <td>8.860759</td>\n",
       "    </tr>\n",
       "    <tr>\n",
       "      <th>1</th>\n",
       "      <td>Bird</td>\n",
       "      <td>413</td>\n",
       "      <td>75</td>\n",
       "      <td>15.368852</td>\n",
       "    </tr>\n",
       "    <tr>\n",
       "      <th>2</th>\n",
       "      <td>Fish</td>\n",
       "      <td>115</td>\n",
       "      <td>11</td>\n",
       "      <td>8.730159</td>\n",
       "    </tr>\n",
       "    <tr>\n",
       "      <th>3</th>\n",
       "      <td>Mammal</td>\n",
       "      <td>146</td>\n",
       "      <td>30</td>\n",
       "      <td>17.045455</td>\n",
       "    </tr>\n",
       "    <tr>\n",
       "      <th>4</th>\n",
       "      <td>Nonvascular Plant</td>\n",
       "      <td>328</td>\n",
       "      <td>5</td>\n",
       "      <td>1.501502</td>\n",
       "    </tr>\n",
       "    <tr>\n",
       "      <th>5</th>\n",
       "      <td>Reptile</td>\n",
       "      <td>73</td>\n",
       "      <td>5</td>\n",
       "      <td>6.410256</td>\n",
       "    </tr>\n",
       "    <tr>\n",
       "      <th>6</th>\n",
       "      <td>Vascular Plant</td>\n",
       "      <td>4216</td>\n",
       "      <td>46</td>\n",
       "      <td>1.079305</td>\n",
       "    </tr>\n",
       "  </tbody>\n",
       "</table>\n",
       "</div>"
      ],
      "text/plain": [
       "            category  not_protected  protected  protected_rate\n",
       "0          Amphibian             72          7        8.860759\n",
       "1               Bird            413         75       15.368852\n",
       "2               Fish            115         11        8.730159\n",
       "3             Mammal            146         30       17.045455\n",
       "4  Nonvascular Plant            328          5        1.501502\n",
       "5            Reptile             73          5        6.410256\n",
       "6     Vascular Plant           4216         46        1.079305"
      ]
     },
     "metadata": {},
     "output_type": "display_data"
    }
   ],
   "source": [
    "protected_categories = df_species.groupby(['category', 'is_protected']).scientific_name.nunique().reset_index().pivot(columns='is_protected', index='category', values='scientific_name').reset_index()\n",
    "protected_categories.columns = ['category', 'not_protected', 'protected']\n",
    "\n",
    "protected_categories['protected_rate'] = protected_categories['protected'] / (protected_categories['protected'] + protected_categories['not_protected']) * 100\n",
    "\n",
    "display(protected_categories)"
   ]
  },
  {
   "cell_type": "markdown",
   "metadata": {},
   "source": [
    "Once we have a count of both protected and non-protected for each animal category, we can now run the chi square tests for all species categories in pairs. For this case, a p-value <= 0.05 will be considered statistically significant."
   ]
  },
  {
   "cell_type": "code",
   "execution_count": 19,
   "metadata": {},
   "outputs": [
    {
     "data": {
      "text/html": [
       "<div>\n",
       "<style scoped>\n",
       "    .dataframe tbody tr th:only-of-type {\n",
       "        vertical-align: middle;\n",
       "    }\n",
       "\n",
       "    .dataframe tbody tr th {\n",
       "        vertical-align: top;\n",
       "    }\n",
       "\n",
       "    .dataframe thead th {\n",
       "        text-align: right;\n",
       "    }\n",
       "</style>\n",
       "<table border=\"1\" class=\"dataframe\">\n",
       "  <thead>\n",
       "    <tr style=\"text-align: right;\">\n",
       "      <th></th>\n",
       "      <th>Amphibian</th>\n",
       "      <th>Bird</th>\n",
       "      <th>Fish</th>\n",
       "      <th>Mammal</th>\n",
       "      <th>Nonvascular Plant</th>\n",
       "      <th>Reptile</th>\n",
       "      <th>Vascular Plant</th>\n",
       "    </tr>\n",
       "  </thead>\n",
       "  <tbody>\n",
       "    <tr>\n",
       "      <th>Amphibian</th>\n",
       "      <td>1.000</td>\n",
       "      <td>0.176</td>\n",
       "      <td>1.000</td>\n",
       "      <td>0.128</td>\n",
       "      <td>0.002</td>\n",
       "      <td>0.781</td>\n",
       "      <td>0.000</td>\n",
       "    </tr>\n",
       "    <tr>\n",
       "      <th>Bird</th>\n",
       "      <td>0.176</td>\n",
       "      <td>1.000</td>\n",
       "      <td>0.077</td>\n",
       "      <td>0.688</td>\n",
       "      <td>0.000</td>\n",
       "      <td>0.053</td>\n",
       "      <td>0.000</td>\n",
       "    </tr>\n",
       "    <tr>\n",
       "      <th>Fish</th>\n",
       "      <td>1.000</td>\n",
       "      <td>0.077</td>\n",
       "      <td>1.000</td>\n",
       "      <td>0.056</td>\n",
       "      <td>0.000</td>\n",
       "      <td>0.741</td>\n",
       "      <td>0.000</td>\n",
       "    </tr>\n",
       "    <tr>\n",
       "      <th>Mammal</th>\n",
       "      <td>0.128</td>\n",
       "      <td>0.688</td>\n",
       "      <td>0.056</td>\n",
       "      <td>1.000</td>\n",
       "      <td>0.000</td>\n",
       "      <td>0.038</td>\n",
       "      <td>0.000</td>\n",
       "    </tr>\n",
       "    <tr>\n",
       "      <th>Nonvascular Plant</th>\n",
       "      <td>0.002</td>\n",
       "      <td>0.000</td>\n",
       "      <td>0.000</td>\n",
       "      <td>0.000</td>\n",
       "      <td>1.000</td>\n",
       "      <td>0.034</td>\n",
       "      <td>0.662</td>\n",
       "    </tr>\n",
       "    <tr>\n",
       "      <th>Reptile</th>\n",
       "      <td>0.781</td>\n",
       "      <td>0.053</td>\n",
       "      <td>0.741</td>\n",
       "      <td>0.038</td>\n",
       "      <td>0.034</td>\n",
       "      <td>1.000</td>\n",
       "      <td>0.000</td>\n",
       "    </tr>\n",
       "    <tr>\n",
       "      <th>Vascular Plant</th>\n",
       "      <td>0.000</td>\n",
       "      <td>0.000</td>\n",
       "      <td>0.000</td>\n",
       "      <td>0.000</td>\n",
       "      <td>0.662</td>\n",
       "      <td>0.000</td>\n",
       "      <td>1.000</td>\n",
       "    </tr>\n",
       "  </tbody>\n",
       "</table>\n",
       "</div>"
      ],
      "text/plain": [
       "                   Amphibian  Bird  Fish  Mammal  Nonvascular Plant  Reptile  \\\n",
       "Amphibian              1.000 0.176 1.000   0.128              0.002    0.781   \n",
       "Bird                   0.176 1.000 0.077   0.688              0.000    0.053   \n",
       "Fish                   1.000 0.077 1.000   0.056              0.000    0.741   \n",
       "Mammal                 0.128 0.688 0.056   1.000              0.000    0.038   \n",
       "Nonvascular Plant      0.002 0.000 0.000   0.000              1.000    0.034   \n",
       "Reptile                0.781 0.053 0.741   0.038              0.034    1.000   \n",
       "Vascular Plant         0.000 0.000 0.000   0.000              0.662    0.000   \n",
       "\n",
       "                   Vascular Plant  \n",
       "Amphibian                   0.000  \n",
       "Bird                        0.000  \n",
       "Fish                        0.000  \n",
       "Mammal                      0.000  \n",
       "Nonvascular Plant           0.662  \n",
       "Reptile                     0.000  \n",
       "Vascular Plant              1.000  "
      ]
     },
     "metadata": {},
     "output_type": "display_data"
    }
   ],
   "source": [
    "# import chi-square test dependency\n",
    "from scipy.stats import chi2_contingency\n",
    "from itertools import combinations, product\n",
    "\n",
    "# loop for column pairing\n",
    "chi2_pairs = []\n",
    "chi2_p_values = []\n",
    "\n",
    "for i, j in product(range(7), repeat=2):\n",
    "    c = [[protected_categories['protected'][i], protected_categories['not_protected'][i]],\n",
    "        [protected_categories['protected'][j], protected_categories['not_protected'][j]]]\n",
    "    chi2_pairs.append(c)\n",
    "\n",
    "for i in range(len(chi2_pairs)):\n",
    "    chi2, p, dof, expected = chi2_contingency(chi2_pairs[i])\n",
    "    chi2_p_values.append(p)\n",
    "\n",
    "# creating chi2 dataframe\n",
    "categories = protected_categories['category'].tolist()\n",
    "chi2_df = pd.DataFrame(np.array(chi2_p_values).reshape(7,7), columns=categories, index=categories)\n",
    "pd.set_option('display.float_format', '{:.3f}'.format)\n",
    "display(chi2_df)"
   ]
  },
  {
   "cell_type": "markdown",
   "metadata": {},
   "source": [
    "### **Most Prevalent Endangered Species in Parks**"
   ]
  },
  {
   "cell_type": "markdown",
   "metadata": {},
   "source": [
    "In order to identify the most prevalent endangered species in the national parks, we will examine the entirety of our datasets. To smoothen out the querying process, we will merge the two dataframes, `df_species` and `df_obs`, into one called `df_species_obs`."
   ]
  },
  {
   "cell_type": "code",
   "execution_count": 20,
   "metadata": {
    "scrolled": false
   },
   "outputs": [
    {
     "data": {
      "text/html": [
       "<div>\n",
       "<style scoped>\n",
       "    .dataframe tbody tr th:only-of-type {\n",
       "        vertical-align: middle;\n",
       "    }\n",
       "\n",
       "    .dataframe tbody tr th {\n",
       "        vertical-align: top;\n",
       "    }\n",
       "\n",
       "    .dataframe thead th {\n",
       "        text-align: right;\n",
       "    }\n",
       "</style>\n",
       "<table border=\"1\" class=\"dataframe\">\n",
       "  <thead>\n",
       "    <tr style=\"text-align: right;\">\n",
       "      <th></th>\n",
       "      <th>category</th>\n",
       "      <th>scientific_name</th>\n",
       "      <th>common_names</th>\n",
       "      <th>conservation_status</th>\n",
       "      <th>is_protected</th>\n",
       "      <th>park_name</th>\n",
       "      <th>observations</th>\n",
       "    </tr>\n",
       "  </thead>\n",
       "  <tbody>\n",
       "    <tr>\n",
       "      <th>0</th>\n",
       "      <td>Mammal</td>\n",
       "      <td>Clethrionomys gapperi gapperi</td>\n",
       "      <td>Gapper's Red-Backed Vole</td>\n",
       "      <td>No Contact</td>\n",
       "      <td>False</td>\n",
       "      <td>Bryce National Park</td>\n",
       "      <td>130</td>\n",
       "    </tr>\n",
       "    <tr>\n",
       "      <th>1</th>\n",
       "      <td>Mammal</td>\n",
       "      <td>Clethrionomys gapperi gapperi</td>\n",
       "      <td>Gapper's Red-Backed Vole</td>\n",
       "      <td>No Contact</td>\n",
       "      <td>False</td>\n",
       "      <td>Yellowstone National Park</td>\n",
       "      <td>270</td>\n",
       "    </tr>\n",
       "    <tr>\n",
       "      <th>2</th>\n",
       "      <td>Mammal</td>\n",
       "      <td>Clethrionomys gapperi gapperi</td>\n",
       "      <td>Gapper's Red-Backed Vole</td>\n",
       "      <td>No Contact</td>\n",
       "      <td>False</td>\n",
       "      <td>Great Smoky Mountains National Park</td>\n",
       "      <td>98</td>\n",
       "    </tr>\n",
       "    <tr>\n",
       "      <th>3</th>\n",
       "      <td>Mammal</td>\n",
       "      <td>Clethrionomys gapperi gapperi</td>\n",
       "      <td>Gapper's Red-Backed Vole</td>\n",
       "      <td>No Contact</td>\n",
       "      <td>False</td>\n",
       "      <td>Yosemite National Park</td>\n",
       "      <td>117</td>\n",
       "    </tr>\n",
       "    <tr>\n",
       "      <th>4</th>\n",
       "      <td>Mammal</td>\n",
       "      <td>Bos bison</td>\n",
       "      <td>American Bison, Bison</td>\n",
       "      <td>No Contact</td>\n",
       "      <td>False</td>\n",
       "      <td>Yosemite National Park</td>\n",
       "      <td>128</td>\n",
       "    </tr>\n",
       "    <tr>\n",
       "      <th>5</th>\n",
       "      <td>Mammal</td>\n",
       "      <td>Bos bison</td>\n",
       "      <td>American Bison, Bison</td>\n",
       "      <td>No Contact</td>\n",
       "      <td>False</td>\n",
       "      <td>Yellowstone National Park</td>\n",
       "      <td>269</td>\n",
       "    </tr>\n",
       "    <tr>\n",
       "      <th>6</th>\n",
       "      <td>Mammal</td>\n",
       "      <td>Bos bison</td>\n",
       "      <td>American Bison, Bison</td>\n",
       "      <td>No Contact</td>\n",
       "      <td>False</td>\n",
       "      <td>Bryce National Park</td>\n",
       "      <td>68</td>\n",
       "    </tr>\n",
       "    <tr>\n",
       "      <th>7</th>\n",
       "      <td>Mammal</td>\n",
       "      <td>Bos bison</td>\n",
       "      <td>American Bison, Bison</td>\n",
       "      <td>No Contact</td>\n",
       "      <td>False</td>\n",
       "      <td>Great Smoky Mountains National Park</td>\n",
       "      <td>77</td>\n",
       "    </tr>\n",
       "    <tr>\n",
       "      <th>8</th>\n",
       "      <td>Mammal</td>\n",
       "      <td>Bos taurus</td>\n",
       "      <td>Aurochs, Aurochs, Domestic Cattle (Feral), Dom...</td>\n",
       "      <td>No Contact</td>\n",
       "      <td>False</td>\n",
       "      <td>Bryce National Park</td>\n",
       "      <td>99</td>\n",
       "    </tr>\n",
       "    <tr>\n",
       "      <th>9</th>\n",
       "      <td>Mammal</td>\n",
       "      <td>Bos taurus</td>\n",
       "      <td>Aurochs, Aurochs, Domestic Cattle (Feral), Dom...</td>\n",
       "      <td>No Contact</td>\n",
       "      <td>False</td>\n",
       "      <td>Yosemite National Park</td>\n",
       "      <td>124</td>\n",
       "    </tr>\n",
       "  </tbody>\n",
       "</table>\n",
       "</div>"
      ],
      "text/plain": [
       "  category                scientific_name  \\\n",
       "0   Mammal  Clethrionomys gapperi gapperi   \n",
       "1   Mammal  Clethrionomys gapperi gapperi   \n",
       "2   Mammal  Clethrionomys gapperi gapperi   \n",
       "3   Mammal  Clethrionomys gapperi gapperi   \n",
       "4   Mammal                      Bos bison   \n",
       "5   Mammal                      Bos bison   \n",
       "6   Mammal                      Bos bison   \n",
       "7   Mammal                      Bos bison   \n",
       "8   Mammal                     Bos taurus   \n",
       "9   Mammal                     Bos taurus   \n",
       "\n",
       "                                        common_names conservation_status  \\\n",
       "0                           Gapper's Red-Backed Vole          No Contact   \n",
       "1                           Gapper's Red-Backed Vole          No Contact   \n",
       "2                           Gapper's Red-Backed Vole          No Contact   \n",
       "3                           Gapper's Red-Backed Vole          No Contact   \n",
       "4                              American Bison, Bison          No Contact   \n",
       "5                              American Bison, Bison          No Contact   \n",
       "6                              American Bison, Bison          No Contact   \n",
       "7                              American Bison, Bison          No Contact   \n",
       "8  Aurochs, Aurochs, Domestic Cattle (Feral), Dom...          No Contact   \n",
       "9  Aurochs, Aurochs, Domestic Cattle (Feral), Dom...          No Contact   \n",
       "\n",
       "   is_protected                            park_name  observations  \n",
       "0         False                  Bryce National Park           130  \n",
       "1         False            Yellowstone National Park           270  \n",
       "2         False  Great Smoky Mountains National Park            98  \n",
       "3         False               Yosemite National Park           117  \n",
       "4         False               Yosemite National Park           128  \n",
       "5         False            Yellowstone National Park           269  \n",
       "6         False                  Bryce National Park            68  \n",
       "7         False  Great Smoky Mountains National Park            77  \n",
       "8         False                  Bryce National Park            99  \n",
       "9         False               Yosemite National Park           124  "
      ]
     },
     "metadata": {},
     "output_type": "display_data"
    }
   ],
   "source": [
    "# Merge two dataframes\n",
    "df_species_obs = df_species.merge(df_obs)\n",
    "display(df_species_obs.head(10))"
   ]
  },
  {
   "cell_type": "markdown",
   "metadata": {},
   "source": [
    "Our next step would be to scan for any duplicate rows inside our merged dataframe. If there is a duplicate, which one would be removed? For this case, we will keep the first observed value in each set of duplicates."
   ]
  },
  {
   "cell_type": "code",
   "execution_count": 21,
   "metadata": {
    "scrolled": true
   },
   "outputs": [
    {
     "name": "stdout",
     "output_type": "stream",
     "text": [
      "There are 31 found in the merged dataframe.\n"
     ]
    }
   ],
   "source": [
    "# Scan for duplicates\n",
    "duplicates = df_species_obs[df_species_obs.duplicated()]\n",
    "print(\"There are \" + str(len(duplicates)) + \" found in the merged dataframe.\")"
   ]
  },
  {
   "cell_type": "code",
   "execution_count": 22,
   "metadata": {},
   "outputs": [],
   "source": [
    "# Drop duplicates with least observed value(s)\n",
    "df_species_obs = df_species_obs.drop_duplicates(keep='first')"
   ]
  },
  {
   "cell_type": "markdown",
   "metadata": {},
   "source": [
    "During the scan, there were 31 duplicates found. They were processed and removed so that the last value (or highest) was kept. Let's double check that there are no more duplicates after the procedure. Hooray, the dataset is free from clones."
   ]
  },
  {
   "cell_type": "code",
   "execution_count": 23,
   "metadata": {
    "scrolled": true
   },
   "outputs": [
    {
     "name": "stdout",
     "output_type": "stream",
     "text": [
      "There are 0 found in the merged dataframe.\n"
     ]
    }
   ],
   "source": [
    "# Double check for duplicates\n",
    "check_duplicates = df_species_obs[df_species_obs.duplicated()]\n",
    "print(\"There are \" + str(len(check_duplicates)) + \" found in the merged dataframe.\")"
   ]
  },
  {
   "cell_type": "markdown",
   "metadata": {},
   "source": [
    "Since `Mammals` hold the highest endangered category percentage at 43.8%, we will be using the `Mammals` category as a filter. Inside the dataset contans a column called `common_names` which includes the commmon names for all species. To begin, we will remove all punctuations and duplicates in the column."
   ]
  },
  {
   "cell_type": "code",
   "execution_count": 24,
   "metadata": {
    "scrolled": false
   },
   "outputs": [
    {
     "data": {
      "text/plain": [
       "0                               Gappers RedBacked Vole\n",
       "1                               Gappers RedBacked Vole\n",
       "2                               Gappers RedBacked Vole\n",
       "3                               Gappers RedBacked Vole\n",
       "4                                 American Bison Bison\n",
       "5                                 American Bison Bison\n",
       "6                                 American Bison Bison\n",
       "7                                 American Bison Bison\n",
       "8    Aurochs Aurochs Domestic Cattle Feral Domestic...\n",
       "9    Aurochs Aurochs Domestic Cattle Feral Domestic...\n",
       "Name: common_names, dtype: object"
      ]
     },
     "metadata": {},
     "output_type": "display_data"
    }
   ],
   "source": [
    "# Remove punctuations\n",
    "common_names = df_species_obs[df_species_obs['category'] == 'Mammal']['common_names'].str.replace('[^\\w\\s]','', regex=True)\n",
    "display(common_names.head(10))\n",
    "\n",
    "# Remove duplicate words\n",
    "common_names = common_names.apply(lambda x: ' '.join(sorted(set(x.split()), key=x.index)))"
   ]
  },
  {
   "cell_type": "markdown",
   "metadata": {},
   "source": [
    "Now that the data has been preprocessed for punctuations and duplicates, we can perform a count for words that appear the most in our dataset! "
   ]
  },
  {
   "cell_type": "code",
   "execution_count": 25,
   "metadata": {},
   "outputs": [
    {
     "name": "stdout",
     "output_type": "stream",
     "text": [
      "Bat         144\n",
      "Myotis      108\n",
      "Shrew       104\n",
      "American     96\n",
      "Mouse        72\n",
      "Mountain     68\n",
      "Common       64\n",
      "Gray         64\n",
      "Chipmunk     60\n",
      "Brown        56\n",
      "dtype: int64\n"
     ]
    }
   ],
   "source": [
    "# Perform word count\n",
    "word_count = common_names.str.split(expand=True).stack().value_counts()\n",
    "print(word_count.head(10))"
   ]
  },
  {
   "cell_type": "markdown",
   "metadata": {},
   "source": [
    "We can now confirm that bats are the most prevalent species with a count of 144. To remove all of the other species, the word 'bat' will now be scanned. The resulting rows will only display bats, in which we can further examine."
   ]
  },
  {
   "cell_type": "code",
   "execution_count": 26,
   "metadata": {
    "scrolled": true
   },
   "outputs": [
    {
     "data": {
      "text/html": [
       "<div>\n",
       "<style scoped>\n",
       "    .dataframe tbody tr th:only-of-type {\n",
       "        vertical-align: middle;\n",
       "    }\n",
       "\n",
       "    .dataframe tbody tr th {\n",
       "        vertical-align: top;\n",
       "    }\n",
       "\n",
       "    .dataframe thead th {\n",
       "        text-align: right;\n",
       "    }\n",
       "</style>\n",
       "<table border=\"1\" class=\"dataframe\">\n",
       "  <thead>\n",
       "    <tr style=\"text-align: right;\">\n",
       "      <th></th>\n",
       "      <th>category</th>\n",
       "      <th>scientific_name</th>\n",
       "      <th>common_names</th>\n",
       "      <th>conservation_status</th>\n",
       "      <th>is_protected</th>\n",
       "      <th>park_name</th>\n",
       "      <th>observations</th>\n",
       "      <th>is_bat</th>\n",
       "    </tr>\n",
       "  </thead>\n",
       "  <tbody>\n",
       "    <tr>\n",
       "      <th>0</th>\n",
       "      <td>Mammal</td>\n",
       "      <td>Clethrionomys gapperi gapperi</td>\n",
       "      <td>Gapper's Red-Backed Vole</td>\n",
       "      <td>No Contact</td>\n",
       "      <td>False</td>\n",
       "      <td>Bryce National Park</td>\n",
       "      <td>130</td>\n",
       "      <td>False</td>\n",
       "    </tr>\n",
       "    <tr>\n",
       "      <th>1</th>\n",
       "      <td>Mammal</td>\n",
       "      <td>Clethrionomys gapperi gapperi</td>\n",
       "      <td>Gapper's Red-Backed Vole</td>\n",
       "      <td>No Contact</td>\n",
       "      <td>False</td>\n",
       "      <td>Yellowstone National Park</td>\n",
       "      <td>270</td>\n",
       "      <td>False</td>\n",
       "    </tr>\n",
       "    <tr>\n",
       "      <th>2</th>\n",
       "      <td>Mammal</td>\n",
       "      <td>Clethrionomys gapperi gapperi</td>\n",
       "      <td>Gapper's Red-Backed Vole</td>\n",
       "      <td>No Contact</td>\n",
       "      <td>False</td>\n",
       "      <td>Great Smoky Mountains National Park</td>\n",
       "      <td>98</td>\n",
       "      <td>False</td>\n",
       "    </tr>\n",
       "    <tr>\n",
       "      <th>3</th>\n",
       "      <td>Mammal</td>\n",
       "      <td>Clethrionomys gapperi gapperi</td>\n",
       "      <td>Gapper's Red-Backed Vole</td>\n",
       "      <td>No Contact</td>\n",
       "      <td>False</td>\n",
       "      <td>Yosemite National Park</td>\n",
       "      <td>117</td>\n",
       "      <td>False</td>\n",
       "    </tr>\n",
       "    <tr>\n",
       "      <th>4</th>\n",
       "      <td>Mammal</td>\n",
       "      <td>Bos bison</td>\n",
       "      <td>American Bison, Bison</td>\n",
       "      <td>No Contact</td>\n",
       "      <td>False</td>\n",
       "      <td>Yosemite National Park</td>\n",
       "      <td>128</td>\n",
       "      <td>False</td>\n",
       "    </tr>\n",
       "  </tbody>\n",
       "</table>\n",
       "</div>"
      ],
      "text/plain": [
       "  category                scientific_name              common_names  \\\n",
       "0   Mammal  Clethrionomys gapperi gapperi  Gapper's Red-Backed Vole   \n",
       "1   Mammal  Clethrionomys gapperi gapperi  Gapper's Red-Backed Vole   \n",
       "2   Mammal  Clethrionomys gapperi gapperi  Gapper's Red-Backed Vole   \n",
       "3   Mammal  Clethrionomys gapperi gapperi  Gapper's Red-Backed Vole   \n",
       "4   Mammal                      Bos bison     American Bison, Bison   \n",
       "\n",
       "  conservation_status  is_protected                            park_name  \\\n",
       "0          No Contact         False                  Bryce National Park   \n",
       "1          No Contact         False            Yellowstone National Park   \n",
       "2          No Contact         False  Great Smoky Mountains National Park   \n",
       "3          No Contact         False               Yosemite National Park   \n",
       "4          No Contact         False               Yosemite National Park   \n",
       "\n",
       "   observations  is_bat  \n",
       "0           130   False  \n",
       "1           270   False  \n",
       "2            98   False  \n",
       "3           117   False  \n",
       "4           128   False  "
      ]
     },
     "execution_count": 26,
     "metadata": {},
     "output_type": "execute_result"
    }
   ],
   "source": [
    "# Create a column to binary search for bats\n",
    "df_species_obs['is_bat'] = df_species_obs['common_names'].str.contains(r'\\bBat\\b', regex=True)\n",
    "df_species_obs.head()"
   ]
  },
  {
   "cell_type": "code",
   "execution_count": 27,
   "metadata": {
    "scrolled": false
   },
   "outputs": [
    {
     "data": {
      "text/html": [
       "<div>\n",
       "<style scoped>\n",
       "    .dataframe tbody tr th:only-of-type {\n",
       "        vertical-align: middle;\n",
       "    }\n",
       "\n",
       "    .dataframe tbody tr th {\n",
       "        vertical-align: top;\n",
       "    }\n",
       "\n",
       "    .dataframe thead th {\n",
       "        text-align: right;\n",
       "    }\n",
       "</style>\n",
       "<table border=\"1\" class=\"dataframe\">\n",
       "  <thead>\n",
       "    <tr style=\"text-align: right;\">\n",
       "      <th></th>\n",
       "      <th>category</th>\n",
       "      <th>scientific_name</th>\n",
       "      <th>common_names</th>\n",
       "      <th>conservation_status</th>\n",
       "      <th>is_protected</th>\n",
       "      <th>park_name</th>\n",
       "      <th>observations</th>\n",
       "      <th>is_bat</th>\n",
       "    </tr>\n",
       "  </thead>\n",
       "  <tbody>\n",
       "    <tr>\n",
       "      <th>341</th>\n",
       "      <td>Mammal</td>\n",
       "      <td>Lasiurus borealis</td>\n",
       "      <td>Eastern Red Bat, Red Bat</td>\n",
       "      <td>No Contact</td>\n",
       "      <td>False</td>\n",
       "      <td>Yellowstone National Park</td>\n",
       "      <td>296</td>\n",
       "      <td>True</td>\n",
       "    </tr>\n",
       "    <tr>\n",
       "      <th>15290</th>\n",
       "      <td>Mammal</td>\n",
       "      <td>Myotis ciliolabrum</td>\n",
       "      <td>Small-Footed Myotis, Western Small-Footed Bat,...</td>\n",
       "      <td>No Contact</td>\n",
       "      <td>False</td>\n",
       "      <td>Yellowstone National Park</td>\n",
       "      <td>275</td>\n",
       "      <td>True</td>\n",
       "    </tr>\n",
       "    <tr>\n",
       "      <th>15254</th>\n",
       "      <td>Mammal</td>\n",
       "      <td>Corynorhinus townsendii</td>\n",
       "      <td>Mule-Eared Bat, Pacific Townsend's Big-Eared B...</td>\n",
       "      <td>No Contact</td>\n",
       "      <td>False</td>\n",
       "      <td>Yellowstone National Park</td>\n",
       "      <td>266</td>\n",
       "      <td>True</td>\n",
       "    </tr>\n",
       "    <tr>\n",
       "      <th>15262</th>\n",
       "      <td>Mammal</td>\n",
       "      <td>Corynorhinus townsendii</td>\n",
       "      <td>Townsend's Big-Eared Bat</td>\n",
       "      <td>No Contact</td>\n",
       "      <td>False</td>\n",
       "      <td>Yellowstone National Park</td>\n",
       "      <td>266</td>\n",
       "      <td>True</td>\n",
       "    </tr>\n",
       "    <tr>\n",
       "      <th>307</th>\n",
       "      <td>Mammal</td>\n",
       "      <td>Corynorhinus rafinesquii</td>\n",
       "      <td>Rafinesque's Big-Eared Bat</td>\n",
       "      <td>No Contact</td>\n",
       "      <td>False</td>\n",
       "      <td>Yellowstone National Park</td>\n",
       "      <td>259</td>\n",
       "      <td>True</td>\n",
       "    </tr>\n",
       "    <tr>\n",
       "      <th>20563</th>\n",
       "      <td>Mammal</td>\n",
       "      <td>Eumops perotis</td>\n",
       "      <td>Western Mastiff Bat</td>\n",
       "      <td>No Contact</td>\n",
       "      <td>False</td>\n",
       "      <td>Yellowstone National Park</td>\n",
       "      <td>258</td>\n",
       "      <td>True</td>\n",
       "    </tr>\n",
       "    <tr>\n",
       "      <th>20575</th>\n",
       "      <td>Mammal</td>\n",
       "      <td>Parastrellus hesperus</td>\n",
       "      <td>Canyon Bat</td>\n",
       "      <td>No Contact</td>\n",
       "      <td>False</td>\n",
       "      <td>Yellowstone National Park</td>\n",
       "      <td>255</td>\n",
       "      <td>True</td>\n",
       "    </tr>\n",
       "    <tr>\n",
       "      <th>357</th>\n",
       "      <td>Mammal</td>\n",
       "      <td>Lasiurus cinereus</td>\n",
       "      <td>Hoary Bat, Hoary Bat</td>\n",
       "      <td>No Contact</td>\n",
       "      <td>False</td>\n",
       "      <td>Yellowstone National Park</td>\n",
       "      <td>252</td>\n",
       "      <td>True</td>\n",
       "    </tr>\n",
       "    <tr>\n",
       "      <th>349</th>\n",
       "      <td>Mammal</td>\n",
       "      <td>Lasiurus cinereus</td>\n",
       "      <td>Hoary Bat</td>\n",
       "      <td>No Contact</td>\n",
       "      <td>False</td>\n",
       "      <td>Yellowstone National Park</td>\n",
       "      <td>252</td>\n",
       "      <td>True</td>\n",
       "    </tr>\n",
       "    <tr>\n",
       "      <th>20565</th>\n",
       "      <td>Mammal</td>\n",
       "      <td>Tadarida brasiliensis</td>\n",
       "      <td>Mexican Free-Tailed Bat</td>\n",
       "      <td>No Contact</td>\n",
       "      <td>False</td>\n",
       "      <td>Yellowstone National Park</td>\n",
       "      <td>251</td>\n",
       "      <td>True</td>\n",
       "    </tr>\n",
       "  </tbody>\n",
       "</table>\n",
       "</div>"
      ],
      "text/plain": [
       "      category           scientific_name  \\\n",
       "341     Mammal         Lasiurus borealis   \n",
       "15290   Mammal        Myotis ciliolabrum   \n",
       "15254   Mammal   Corynorhinus townsendii   \n",
       "15262   Mammal   Corynorhinus townsendii   \n",
       "307     Mammal  Corynorhinus rafinesquii   \n",
       "20563   Mammal            Eumops perotis   \n",
       "20575   Mammal     Parastrellus hesperus   \n",
       "357     Mammal         Lasiurus cinereus   \n",
       "349     Mammal         Lasiurus cinereus   \n",
       "20565   Mammal     Tadarida brasiliensis   \n",
       "\n",
       "                                            common_names conservation_status  \\\n",
       "341                             Eastern Red Bat, Red Bat          No Contact   \n",
       "15290  Small-Footed Myotis, Western Small-Footed Bat,...          No Contact   \n",
       "15254  Mule-Eared Bat, Pacific Townsend's Big-Eared B...          No Contact   \n",
       "15262                           Townsend's Big-Eared Bat          No Contact   \n",
       "307                           Rafinesque's Big-Eared Bat          No Contact   \n",
       "20563                                Western Mastiff Bat          No Contact   \n",
       "20575                                         Canyon Bat          No Contact   \n",
       "357                                 Hoary Bat, Hoary Bat          No Contact   \n",
       "349                                            Hoary Bat          No Contact   \n",
       "20565                            Mexican Free-Tailed Bat          No Contact   \n",
       "\n",
       "       is_protected                  park_name  observations  is_bat  \n",
       "341           False  Yellowstone National Park           296    True  \n",
       "15290         False  Yellowstone National Park           275    True  \n",
       "15254         False  Yellowstone National Park           266    True  \n",
       "15262         False  Yellowstone National Park           266    True  \n",
       "307           False  Yellowstone National Park           259    True  \n",
       "20563         False  Yellowstone National Park           258    True  \n",
       "20575         False  Yellowstone National Park           255    True  \n",
       "357           False  Yellowstone National Park           252    True  \n",
       "349           False  Yellowstone National Park           252    True  \n",
       "20565         False  Yellowstone National Park           251    True  "
      ]
     },
     "metadata": {},
     "output_type": "display_data"
    }
   ],
   "source": [
    "# Display bats from search\n",
    "unique_bats = df_species_obs[df_species_obs['is_bat']]\n",
    "display(unique_bats.sort_values(\"observations\", ascending=False).head(10))"
   ]
  },
  {
   "cell_type": "markdown",
   "metadata": {},
   "source": [
    "The table above displays the top ten most observed bats found in the national parks. It is interesting to note that all of the top ten bats were found in the Yellowstone National Park (for all the bat enthusiasts, you know know where to plan your trip). However, all bats held a conservation status of 'No Contact'. The scientific name for the most prevalent bat species is `Lasiurus borealis`, also known as the Eastern Red bat, with a count of 296. "
   ]
  },
  {
   "cell_type": "markdown",
   "metadata": {},
   "source": [
    "## Conclusion"
   ]
  },
  {
   "cell_type": "markdown",
   "metadata": {},
   "source": [
    "## Additional Notes"
   ]
  },
  {
   "cell_type": "code",
   "execution_count": null,
   "metadata": {},
   "outputs": [],
   "source": []
  }
 ],
 "metadata": {
  "kernelspec": {
   "display_name": "Python 3 (ipykernel)",
   "language": "python",
   "name": "python3"
  },
  "language_info": {
   "codemirror_mode": {
    "name": "ipython",
    "version": 3
   },
   "file_extension": ".py",
   "mimetype": "text/x-python",
   "name": "python",
   "nbconvert_exporter": "python",
   "pygments_lexer": "ipython3",
   "version": "3.9.13"
  }
 },
 "nbformat": 4,
 "nbformat_minor": 4
}
